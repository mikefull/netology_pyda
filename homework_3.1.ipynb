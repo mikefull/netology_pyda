{
 "cells": [
  {
   "cell_type": "code",
   "execution_count": 11,
   "metadata": {},
   "outputs": [
    {
     "data": {
      "text/plain": [
       "103"
      ]
     },
     "execution_count": 11,
     "metadata": {},
     "output_type": "execute_result"
    }
   ],
   "source": [
    "1\n",
    "\n",
    "data = [\n",
    "    [13, 25, 23, 34],\n",
    "    [45, 32, 44, 47],\n",
    "    [12, 33, 23, 95],\n",
    "    [13, 53, 34, 35]\n",
    "]\n",
    "\n",
    "\n",
    "def sum_diag(new_data):\n",
    "    result = 0\n",
    "    for i,value in enumerate(new_data):\n",
    "        result += value[i]\n",
    "    return result\n",
    "\n",
    "sum_diag(data)"
   ]
  },
  {
   "cell_type": "code",
   "execution_count": 12,
   "metadata": {},
   "outputs": [
    {
     "data": {
      "text/plain": [
       "430"
      ]
     },
     "execution_count": 12,
     "metadata": {},
     "output_type": "execute_result"
    }
   ],
   "source": [
    "2\n",
    "data1 = [1, '5', 'abc', 20, '2']\n",
    "\n",
    "def sum_sqr_numb(data2):\n",
    "    result1 = 0\n",
    "    for n in data2:\n",
    "        if type(n) == int:\n",
    "            result1 += n**2\n",
    "        elif n.isdigit():\n",
    "            result1 += int(n)**2\n",
    "    return result1\n",
    "sum_sqr_numb (data1)\n",
    "    "
   ]
  },
  {
   "cell_type": "code",
   "execution_count": 5,
   "metadata": {},
   "outputs": [
    {
     "name": "stdout",
     "output_type": "stream",
     "text": [
      "8\n"
     ]
    }
   ],
   "source": [
    "3\n",
    "\n",
    "def fibonacci(n):\n",
    "    if n in (1, 2):\n",
    "        return 1\n",
    "    return fibonacci(n - 1) + fibonacci(n - 2)\n",
    " \n",
    " \n",
    "print(fibonacci(6))"
   ]
  },
  {
   "cell_type": "code",
   "execution_count": 28,
   "metadata": {},
   "outputs": [
    {
     "name": "stdout",
     "output_type": "stream",
     "text": [
      "Список команд: 1 - вывести на экран среднюю оценку за все ДЗ по группе и вывести на экран среднюю оценку за экзамен по группе; 2 - вывести среднюю оценку за ДЗ и за экзамен по группе в разрезе пола студентов 3 - вывести среднюю оценку за ДЗ и за экзамен в разрезе наличия опыта в программировании у студентов\n",
      "Средняя оценка за все ДЗ по группе 8.433333333333335\n",
      "Средняя оценка за экзамен по группе 9.166666666666666\n",
      "Средняя оценка за все ДЗ по группе 'M' 8.8\n",
      "Средняя оценка за экзамен по группе 'М' 9.0\n",
      "Средняя оценка за все ДЗ по группе 'Ж' 8.8\n",
      "Средняя оценка за экзамен по группе 'Ж' 9.0\n",
      "Средняя оценка за все ДЗ по группе с опытом 8.48\n",
      "Средняя оценка за экзамен по группе с опытом  9.0\n",
      "Средняя оценка за все ДЗ по группе без опыта 8.48\n",
      "Средняя оценка за экзамен по группе без опыта 9.0\n",
      "Введите команду от 1 до 3 :3\n",
      "Средняя оценка за все ДЗ по группе с опытом 8.48\n",
      "Средняя оценка за экзамен по группе с опытом  9.0\n"
     ]
    }
   ],
   "source": [
    "4\n",
    "\n",
    "students_list = [\n",
    "    {'name': 'Василий', 'surname': 'Теркин', 'sex': 'м', 'program_exp': True, 'grade': [8, 8, 9, 10, 9], 'exam': 9},\n",
    "    {'name': 'Мария', 'surname': 'Павлова', 'sex': 'ж', 'program_exp': True, 'grade': [7, 8, 9, 7, 9], 'exam': 8},\n",
    "    {'name': 'Ирина', 'surname': 'Андреева', 'sex': 'ж', 'program_exp': True, 'grade': [10, 9, 8, 10, 10], 'exam': 10},\n",
    "    {'name': 'Татьяна', 'surname': 'Сидорова', 'sex': 'ж', 'program_exp': True, 'grade': [7, 8, 8, 9, 8], 'exam': 8},\n",
    "    {'name': 'Иван', 'surname': 'Васильев', 'sex': 'ж', 'program_exp': True, 'grade': [9, 8, 9, 6, 9], 'exam': 10},\n",
    "    {'name': 'Роман', 'surname': 'Золотарев', 'sex': 'ж', 'program_exp': False, 'grade': [8, 9, 9, 6, 9], 'exam': 10}\n",
    "]\n",
    "\n",
    "print (\"Список команд: 1 - вывести на экран среднюю оценку за все ДЗ по группе и вывести на экран среднюю оценку за экзамен \\\n",
    "по группе; 2 - вывести среднюю оценку за ДЗ и за экзамен по группе в разрезе пола студентов 3 - вывести среднюю оценку за ДЗ \\\n",
    "и за экзамен в разрезе наличия опыта в программировании у студентов\")\n",
    "\n",
    "\n",
    "\n",
    "def average_rating(students):\n",
    "        average_rating_grade = 0\n",
    "        average_rating_exam = 0\n",
    "        for student in students:\n",
    "            average_rating_grade += sum (student['grade'] ) / len (student['grade'])\n",
    "            average_rating_exam += (student['exam'] ) \n",
    "        print (\"Средняя оценка за все ДЗ по группе\" , average_rating_grade / len (students))\n",
    "        print (\"Средняя оценка за экзамен по группе\" , average_rating_exam / len (students))\n",
    "\n",
    "average_rating(students_list)\n",
    "\n",
    "def average_rating_sex(students,sex ='м' ):\n",
    "        average_rating_grade_sex = 0\n",
    "        average_rating_exam_sex = 0\n",
    "        students_sex = 0\n",
    "        for student in students:\n",
    "            if student ['sex'] == 'м':\n",
    "                average_rating_grade_sex += sum (student['grade'] ) / len (student['grade'])\n",
    "                average_rating_exam_sex += (student['exam'] )\n",
    "                students_sex += 1\n",
    "        if sex =='м':\n",
    "            print (\"Средняя оценка за все ДЗ по группе 'M'\" , average_rating_grade_sex / students_sex)\n",
    "            print (\"Средняя оценка за экзамен по группе 'М'\" , average_rating_exam_sex / students_sex)\n",
    "        else :\n",
    "            print (\"Средняя оценка за все ДЗ по группе 'Ж'\" , average_rating_grade_sex / students_sex)\n",
    "            print (\"Средняя оценка за экзамен по группе 'Ж'\" , average_rating_exam_sex / students_sex)\n",
    "average_rating_sex (students_list)\n",
    "average_rating_sex (students_list, sex = 'ж')\n",
    "\n",
    "\n",
    "def average_rating_exp(students,exp = True ):\n",
    "        average_rating_grade_exp = 0\n",
    "        average_rating_exam_exp = 0\n",
    "        students_exp = 0\n",
    "        for student in students:\n",
    "            if student ['program_exp'] == True:\n",
    "                average_rating_grade_exp += sum (student['grade'] ) / len (student['grade'])\n",
    "                average_rating_exam_exp += (student['exam'] )\n",
    "                students_exp += 1\n",
    "        if exp == True:\n",
    "            print (\"Средняя оценка за все ДЗ по группе с опытом\" , average_rating_grade_exp / students_exp)\n",
    "            print (\"Средняя оценка за экзамен по группе с опытом \" , average_rating_exam_exp / students_exp)\n",
    "        else :\n",
    "            print (\"Средняя оценка за все ДЗ по группе без опыта\" , average_rating_grade_exp / students_exp)\n",
    "            print (\"Средняя оценка за экзамен по группе без опыта\" , average_rating_exam_exp / students_exp)\n",
    "            \n",
    "average_rating_exp (students_list)\n",
    "average_rating_exp (students_list, exp = False)\n",
    "    \n",
    "def num_comand(students_list) :\n",
    "    com =int(input('Введите команду от 1 до 3 :'))\n",
    "    if com == 1 :\n",
    "        return average_rating(students_list)\n",
    "    elif com == 2 :\n",
    "        return average_rating_sex (students_list) and average_rating_sex (students_list, sex = 'ж')\n",
    "    elif com == 3:\n",
    "        return average_rating_exp (students_list) and average_rating_exp (students_list, exp = False)\n",
    "num_comand(students_list)"
   ]
  },
  {
   "cell_type": "code",
   "execution_count": null,
   "metadata": {},
   "outputs": [],
   "source": []
  }
 ],
 "metadata": {
  "kernelspec": {
   "display_name": "Python 3",
   "language": "python",
   "name": "python3"
  },
  "language_info": {
   "codemirror_mode": {
    "name": "ipython",
    "version": 3
   },
   "file_extension": ".py",
   "mimetype": "text/x-python",
   "name": "python",
   "nbconvert_exporter": "python",
   "pygments_lexer": "ipython3",
   "version": "3.7.3"
  }
 },
 "nbformat": 4,
 "nbformat_minor": 2
}
