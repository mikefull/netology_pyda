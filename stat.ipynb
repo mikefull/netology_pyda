{
 "cells": [
  {
   "cell_type": "code",
   "execution_count": 69,
   "metadata": {},
   "outputs": [],
   "source": [
    "import numpy as np\n",
    "import pylab as pl\n",
    "import warnings\n",
    "\n",
    "from matplotlib import pyplot as plt\n",
    "from scipy import linalg\n",
    "from sklearn.datasets import load_digits\n",
    "from sklearn.decomposition import TruncatedSVD\n",
    "from sklearn.ensemble import RandomForestClassifier\n",
    "warnings.filterwarnings(\"ignore\")\n"
   ]
  },
  {
   "cell_type": "code",
   "execution_count": 85,
   "metadata": {},
   "outputs": [
    {
     "name": "stdout",
     "output_type": "stream",
     "text": [
      "[5 7]\n"
     ]
    },
    {
     "data": {
      "image/png": "[encoded data removed]",
      "text/plain": [
       "<Figure size 432x288 with 1 Axes>"
      ]
     },
     "metadata": {
      "needs_background": "light"
     },
     "output_type": "display_data"
    },
    {
     "data": {
      "text/plain": [
       "43.55880681005742"
      ]
     },
     "execution_count": 85,
     "metadata": {},
     "output_type": "execute_result"
    }
   ],
   "source": [
    "#1. Изобразите с помощью matplotlib. Изобразите точку x + 2y + 3z. Найдите угол между векторами x, y и x, z.\n",
    "\n",
    "x = np.array([1,1])\n",
    "y = np.array([2, 0])\n",
    "z = np.array([0,2])\n",
    "\n",
    "a = x + 2 * y + 3 * z\n",
    "print(a)\n",
    "\n",
    "plt.plot(a, marker='o', linestyle='') #построил точку\n",
    "plt.show()\n",
    "\n",
    "# для нахождения угла между векторами нужно найти длины векторов х,у и z соответственно\n",
    "x1 = np.linalg.norm(x)\n",
    "y1 = np.linalg.norm(y)\n",
    "z1 = np.linalg.norm(z)\n",
    "\n",
    "# находим угол между векторами\n",
    "np.degrees(np.cos(np.dot(x,y)/((x1*y1)))) #угол между векторами х и у\n",
    "np.degrees(np.cos(np.dot(x,z)/((x1*z1)))) #угол между векторами х и z\n",
    "# углы между векторами одинаковы\n",
    "\n"
   ]
  },
  {
   "cell_type": "code",
   "execution_count": 59,
   "metadata": {},
   "outputs": [
    {
     "name": "stdout",
     "output_type": "stream",
     "text": [
      "Собственное значение m1 1.0\n",
      "соответствующий ему собственный вектор m1 [-0.89442719  0.4472136 ]\n",
      "Собственное значение m1 4.0\n",
      "соответствующий ему собственный вектор m1 [-0.70710678 -0.70710678]\n",
      "Собственное значение m2 2.999999999999999\n",
      "соответствующий ему собственный вектор m2[-0.81649658  0.40824829 -0.40824829]\n",
      "Собственное значение m2 5.999999999999997\n",
      "соответствующий ему собственный вектор m2[ 0.57735027  0.57735027 -0.57735027]\n",
      "Собственное значение m2 2.9999999999999996\n",
      "соответствующий ему собственный вектор m2[-0.27658128  0.8035929   0.52701162]\n"
     ]
    }
   ],
   "source": [
    "#2.Найдите собственные значения и собственные вектора матриц (необходимо решение на numpy и решение по алгоритму\n",
    "#на бумажке). Для матрицы 3x3 можно посмотреть на корни характеристического многочлена, посчитанные в numpy.\n",
    "\n",
    "m1 = np.array([[2, 2],\n",
    "               [1, 3]])\n",
    "\n",
    "m2 = np.array([[4, 1, -1],\n",
    "               [1, 4, -1],\n",
    "               [-1, -1, 4]])\n",
    "\n",
    "w, v = np.linalg.eig(m1)\n",
    "for i in range(len(w)):\n",
    "    print(\"Собственное значение m1 \" + str(w[i]))\n",
    "    print(\"соответствующий ему собственный вектор m1 \" + str(v[:,i]))\n",
    "    \n",
    "w, v = np.linalg.eig(m2)\n",
    "for i in range(len(w)):\n",
    "    print(\"Собственное значение m2 \" + str(w[i]))\n",
    "    print(\"соответствующий ему собственный вектор m2\" + str(v[:,i]))"
   ]
  },
  {
   "cell_type": "markdown",
   "metadata": {},
   "source": [
    "#3. Найдите сингулярное разложение матрицы.\n"
   ]
  },
  {
   "cell_type": "code",
   "execution_count": 120,
   "metadata": {},
   "outputs": [
    {
     "name": "stdout",
     "output_type": "stream",
     "text": [
      "[[-0.52573111 -0.85065081]\n",
      " [-0.85065081  0.52573111]]\n",
      "[4.23606798 0.23606798]\n",
      "[[-0.52573111 -0.85065081]\n",
      " [ 0.85065081 -0.52573111]]\n"
     ]
    }
   ],
   "source": [
    "from numpy import array\n",
    "from numpy.linalg import pinv\n",
    "from matplotlib import pyplot\n",
    "m3 = np.array([[1, 2],\n",
    "               [2, 3]])\n",
    "#svd A = u . s . vh\n",
    "u, s, vh = np.linalg.svd(m3, full_matrices= True)\n",
    "print(u)\n",
    "\n",
    "print(s)\n",
    "\n",
    "print(vh)\n"
   ]
  },
  {
   "cell_type": "code",
   "execution_count": null,
   "metadata": {},
   "outputs": [],
   "source": []
  },
  {
   "cell_type": "code",
   "execution_count": null,
   "metadata": {},
   "outputs": [],
   "source": [
    "\n"
   ]
  }
 ],
 "metadata": {
  "kernelspec": {
   "display_name": "Python 3",
   "language": "python",
   "name": "python3"
  },
  "language_info": {
   "codemirror_mode": {
    "name": "ipython",
    "version": 3
   },
   "file_extension": ".py",
   "mimetype": "text/x-python",
   "name": "python",
   "nbconvert_exporter": "python",
   "pygments_lexer": "ipython3",
   "version": "3.7.4"
  }
 },
 "nbformat": 4,
 "nbformat_minor": 2
}
