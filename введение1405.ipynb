{
 "cells": [
  {
   "cell_type": "code",
   "execution_count": 1,
   "metadata": {},
   "outputs": [],
   "source": [
    "import numpy as np\n",
    "import pandas as pd\n",
    "\n",
    "from sklearn.linear_model import LinearRegression"
   ]
  },
  {
   "cell_type": "code",
   "execution_count": 7,
   "metadata": {},
   "outputs": [
    {
     "data": {
      "text/html": [
       "<div>\n",
       "<style scoped>\n",
       "    .dataframe tbody tr th:only-of-type {\n",
       "        vertical-align: middle;\n",
       "    }\n",
       "\n",
       "    .dataframe tbody tr th {\n",
       "        vertical-align: top;\n",
       "    }\n",
       "\n",
       "    .dataframe thead th {\n",
       "        text-align: right;\n",
       "    }\n",
       "</style>\n",
       "<table border=\"1\" class=\"dataframe\">\n",
       "  <thead>\n",
       "    <tr style=\"text-align: right;\">\n",
       "      <th></th>\n",
       "      <th>engine_size</th>\n",
       "      <th>weight</th>\n",
       "      <th>auto</th>\n",
       "      <th>co2</th>\n",
       "    </tr>\n",
       "  </thead>\n",
       "  <tbody>\n",
       "    <tr>\n",
       "      <td>0</td>\n",
       "      <td>3707</td>\n",
       "      <td>0.7</td>\n",
       "      <td>5</td>\n",
       "      <td>259.49</td>\n",
       "    </tr>\n",
       "    <tr>\n",
       "      <td>1</td>\n",
       "      <td>3572</td>\n",
       "      <td>1.7</td>\n",
       "      <td>11</td>\n",
       "      <td>607.24</td>\n",
       "    </tr>\n",
       "    <tr>\n",
       "      <td>2</td>\n",
       "      <td>3836</td>\n",
       "      <td>1.7</td>\n",
       "      <td>18</td>\n",
       "      <td>652.12</td>\n",
       "    </tr>\n",
       "    <tr>\n",
       "      <td>3</td>\n",
       "      <td>2300</td>\n",
       "      <td>2.7</td>\n",
       "      <td>20</td>\n",
       "      <td>621.00</td>\n",
       "    </tr>\n",
       "    <tr>\n",
       "      <td>4</td>\n",
       "      <td>1953</td>\n",
       "      <td>2.7</td>\n",
       "      <td>32</td>\n",
       "      <td>527.31</td>\n",
       "    </tr>\n",
       "  </tbody>\n",
       "</table>\n",
       "</div>"
      ],
      "text/plain": [
       "   engine_size  weight  auto     co2\n",
       "0         3707     0.7     5  259.49\n",
       "1         3572     1.7    11  607.24\n",
       "2         3836     1.7    18  652.12\n",
       "3         2300     2.7    20  621.00\n",
       "4         1953     2.7    32  527.31"
      ]
     },
     "execution_count": 7,
     "metadata": {},
     "output_type": "execute_result"
    }
   ],
   "source": [
    "# Создаём сэмпл(выбросы углекислого газа от бензиновых двигателей) со следующими переменными:\n",
    "n_samples = 1000\n",
    "\n",
    "engine_size = np.random.choice(4000, n_samples) + 1000 # объем бензинового двигателя в кубических сантиметрах\n",
    "weight = np.random.choice(3, n_samples) + 0.7 # вес автомобиля в тоннах\n",
    "auto = np.random.choice(50, n_samples) + 1 # автопроизводитель(имеется 50 автопроизводителей, каждому присвоен свой номер)\n",
    "\n",
    "co2 = 0.2 * engine_size * 0.5 * weight # объем выброса за год в кубических метрах\n",
    "\n",
    "data = pd.DataFrame({'engine_size': engine_size, 'weight': weight, 'auto': auto, 'co2': co2})\n",
    "data.head(5)"
   ]
  },
  {
   "cell_type": "code",
   "execution_count": 10,
   "metadata": {},
   "outputs": [
    {
     "name": "stdout",
     "output_type": "stream",
     "text": [
      "Weights: [1.68954816e-01 3.01759415e+02 2.71252851e-01]\n",
      "Bias: -518.5034700684163\n",
      "Error: 69.080168656153\n"
     ]
    }
   ],
   "source": [
    "from sklearn.metrics import mean_absolute_error\n",
    "\n",
    "X = data[['engine_size', 'weight', 'auto']]\n",
    "y = data['co2']\n",
    "reg = LinearRegression().fit(X, y)\n",
    "print('Weights: {}'.format(reg.coef_))\n",
    "print('Bias: {}'.format(reg.intercept_))\n",
    "\n",
    "pred_values = reg.predict(data[['engine_size', 'weight', 'auto']])\n",
    "print('Error: {}'.format(mean_absolute_error(pred_values, y)))"
   ]
  },
  {
   "cell_type": "code",
   "execution_count": 12,
   "metadata": {},
   "outputs": [
    {
     "name": "stdout",
     "output_type": "stream",
     "text": [
      "Weights: [1.68969922e-01 3.01949532e+02]\n",
      "Bias: -512.0628300037548\n",
      "Error: 68.56763536215989\n"
     ]
    }
   ],
   "source": [
    "# уберем автопроизводителя и посчитаем ошибку\n",
    "X = data[['engine_size', 'weight']]\n",
    "y = data['co2']\n",
    "reg = LinearRegression().fit(X, y)\n",
    "print('Weights: {}'.format(reg.coef_))\n",
    "print('Bias: {}'.format(reg.intercept_))\n",
    "\n",
    "pred_values = reg.predict(data[['engine_size', 'weight']])\n",
    "print('Error: {}'.format(mean_absolute_error(pred_values, y)))"
   ]
  },
  {
   "cell_type": "code",
   "execution_count": 13,
   "metadata": {},
   "outputs": [
    {
     "data": {
      "text/html": [
       "<div>\n",
       "<style scoped>\n",
       "    .dataframe tbody tr th:only-of-type {\n",
       "        vertical-align: middle;\n",
       "    }\n",
       "\n",
       "    .dataframe tbody tr th {\n",
       "        vertical-align: top;\n",
       "    }\n",
       "\n",
       "    .dataframe thead th {\n",
       "        text-align: right;\n",
       "    }\n",
       "</style>\n",
       "<table border=\"1\" class=\"dataframe\">\n",
       "  <thead>\n",
       "    <tr style=\"text-align: right;\">\n",
       "      <th></th>\n",
       "      <th>engine_size</th>\n",
       "      <th>weight</th>\n",
       "      <th>auto</th>\n",
       "      <th>co2</th>\n",
       "      <th>multi</th>\n",
       "    </tr>\n",
       "  </thead>\n",
       "  <tbody>\n",
       "    <tr>\n",
       "      <td>0</td>\n",
       "      <td>3707</td>\n",
       "      <td>0.7</td>\n",
       "      <td>5</td>\n",
       "      <td>259.49</td>\n",
       "      <td>2594.9</td>\n",
       "    </tr>\n",
       "    <tr>\n",
       "      <td>1</td>\n",
       "      <td>3572</td>\n",
       "      <td>1.7</td>\n",
       "      <td>11</td>\n",
       "      <td>607.24</td>\n",
       "      <td>6072.4</td>\n",
       "    </tr>\n",
       "    <tr>\n",
       "      <td>2</td>\n",
       "      <td>3836</td>\n",
       "      <td>1.7</td>\n",
       "      <td>18</td>\n",
       "      <td>652.12</td>\n",
       "      <td>6521.2</td>\n",
       "    </tr>\n",
       "    <tr>\n",
       "      <td>3</td>\n",
       "      <td>2300</td>\n",
       "      <td>2.7</td>\n",
       "      <td>20</td>\n",
       "      <td>621.00</td>\n",
       "      <td>6210.0</td>\n",
       "    </tr>\n",
       "    <tr>\n",
       "      <td>4</td>\n",
       "      <td>1953</td>\n",
       "      <td>2.7</td>\n",
       "      <td>32</td>\n",
       "      <td>527.31</td>\n",
       "      <td>5273.1</td>\n",
       "    </tr>\n",
       "  </tbody>\n",
       "</table>\n",
       "</div>"
      ],
      "text/plain": [
       "   engine_size  weight  auto     co2   multi\n",
       "0         3707     0.7     5  259.49  2594.9\n",
       "1         3572     1.7    11  607.24  6072.4\n",
       "2         3836     1.7    18  652.12  6521.2\n",
       "3         2300     2.7    20  621.00  6210.0\n",
       "4         1953     2.7    32  527.31  5273.1"
      ]
     },
     "execution_count": 13,
     "metadata": {},
     "output_type": "execute_result"
    }
   ],
   "source": [
    "# Создаем новый признак\n",
    "data['multi'] = data['engine_size'] * data['weight']\n",
    "data.head(5)"
   ]
  },
  {
   "cell_type": "code",
   "execution_count": 14,
   "metadata": {},
   "outputs": [
    {
     "name": "stdout",
     "output_type": "stream",
     "text": [
      "Weights: [0.1]\n",
      "Bias: 1.1368683772161603e-13\n",
      "Error: 6.252776074688882e-14\n"
     ]
    }
   ],
   "source": [
    "X = data[['multi']]\n",
    "y = data['co2']\n",
    "reg = LinearRegression().fit(X, y)\n",
    "print('Weights: {}'.format(reg.coef_))\n",
    "print('Bias: {}'.format(reg.intercept_))\n",
    "\n",
    "pred_values = reg.predict(data[['multi']])\n",
    "print('Error: {}'.format(mean_absolute_error(pred_values, y)))\n",
    "# при введении нового признака мы получаем ошибку близкую к 0"
   ]
  },
  {
   "cell_type": "code",
   "execution_count": null,
   "metadata": {},
   "outputs": [],
   "source": []
  },
  {
   "cell_type": "code",
   "execution_count": null,
   "metadata": {},
   "outputs": [],
   "source": []
  },
  {
   "cell_type": "code",
   "execution_count": null,
   "metadata": {},
   "outputs": [],
   "source": []
  },
  {
   "cell_type": "code",
   "execution_count": null,
   "metadata": {},
   "outputs": [],
   "source": []
  }
 ],
 "metadata": {
  "kernelspec": {
   "display_name": "Python 3",
   "language": "python",
   "name": "python3"
  },
  "language_info": {
   "codemirror_mode": {
    "name": "ipython",
    "version": 3
   },
   "file_extension": ".py",
   "mimetype": "text/x-python",
   "name": "python",
   "nbconvert_exporter": "python",
   "pygments_lexer": "ipython3",
   "version": "3.7.4"
  }
 },
 "nbformat": 4,
 "nbformat_minor": 2
}
