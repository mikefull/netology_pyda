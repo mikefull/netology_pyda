{
 "cells": [
  {
   "cell_type": "code",
   "execution_count": 2,
   "metadata": {},
   "outputs": [
    {
     "data": {
      "text/plain": [
       "True"
      ]
     },
     "execution_count": 2,
     "metadata": {},
     "output_type": "execute_result"
    }
   ],
   "source": [
    "long_phrase = len (\"Насколько проще было бы писать программы, если бы не заказчики\")\n",
    "short_phrase = len (\"640Кб должно хватить для любых задач. Билл Гейтс (по легенде)\")\n",
    "long_phrase > short_phrase"
   ]
  },
  {
   "cell_type": "code",
   "execution_count": 7,
   "metadata": {},
   "outputs": [
    {
     "name": "stdout",
     "output_type": "stream",
     "text": [
      "Объем файла равен (213.68, 'mb')\n"
     ]
    }
   ],
   "source": [
    "starting_value_in_byte = 224059720\n",
    "byte_in_mbyte = 2**20\n",
    "result = starting_value_in_byte / byte_in_mbyte\n",
    "a = round (result, 3), \"mb\"\n",
    "print (\"Объем файла равен\", a )"
   ]
  },
  {
   "cell_type": "code",
   "execution_count": 10,
   "metadata": {},
   "outputs": [
    {
     "name": "stdout",
     "output_type": "stream",
     "text": [
      "Сейчас узнаем Ваш знак зодиака\n",
      "Введите месяц рождения  март\n",
      "Введите число рождения  22\n",
      "Овен\n"
     ]
    }
   ],
   "source": [
    "print(\"Сейчас узнаем Ваш знак зодиака\")\n",
    "month = str( input(\"Введите месяц рождения  \")) \n",
    "date = int( input(\"Введите число рождения  \"))\n",
    "if (month == \"январь\" and date >= 21) or (month == \"январь\" and date <= 31) or (month == \"февраль\" and date <= 18):\n",
    "    print(\"Водолей\")\n",
    "elif (month == \"февраль\" and date >= 19 ) or (month == \"февраль\" and date <= 29) or (month == \"март\" and date <= 20):\n",
    "    print(\"Рыбы\") \n",
    "elif (month == \"март\" and date >= 21) or (month == \"март\" and date <= 31) or (month == \"апрель\" and date <= 19):\n",
    "    print(\"Овен\")\n",
    "elif (month == \"апрель\" and date >= 20) or (month == \"апрель\" and date <= 30) or (month == \"май\" and date <=20):\n",
    "    print(\"Телец\")\n",
    "elif (month == \"май\" and date >= 21) or (month == \"май\" and date <= 31) or (month == \"июнь\" and date <=21):\n",
    "    print(\"Близнецы\")\n",
    "elif (month == \"июнь\" and date >= 22) or (month == \"июнь\" and date <= 30) or (month == \"июль\" and date <=22):\n",
    "    print(\"Рак\")\n",
    "elif (month == \"июль\" and date >= 23) or (month == \"июль\" and date <= 31) or (month == \"август\" and date <=22):\n",
    "    print(\"Лев\")\n",
    "elif (month == \"август\" and date >= 23) or (month == \"август\" and date <= 31) or (month == \"сентябрь\" and date <=22):\n",
    "    print(\"Дева\")\n",
    "elif (month == \"сентябрь\" and date >= 23) or (month == \"сентябрь\" and date <= 30) or (month == \"октябрь\" and date <=23):\n",
    "    print(\"Весы\")\n",
    "elif (month == \"октябрь\" and date >= 24) or (month == \"октябрь\" and date <= 31) or (month == \"ноябрь\" and date <=22):\n",
    "    print(\"Скорпион\")\n",
    "elif (month == \"ноябрь\" and date >= 23) or (month == \"ноябрь\" and date <= 30) or (month == \"декабрь\" and date <=21):\n",
    "    print(\"Стрелец\") \n",
    "elif (month == \"декабрь\" and date >= 22) or (month == \"декабрь\" and date <= 31) or (month == \"январь\" and date <=20):\n",
    "    print(\"Козерог\")     "
   ]
  },
  {
   "cell_type": "code",
   "execution_count": null,
   "metadata": {},
   "outputs": [],
   "source": [
    "print (\"Калькулятор для финансового планирования\")\n",
    "salary = int (input (\"Введите Вашу ежемесячную зарплату\\n\"))\n",
    "ipoteka_per = int(input (\"Введите сколько процентов уходит на ипотеку\\n\"))\n",
    "ipoteka_money = ipoteka_per / 100\n",
    "life_per = int (input (\"Введите сколько процентов уходит на жизнь\\n\"))\n",
    "life_money = life_per / 100\n",
    "salary_save_money_year = (1 - ipoteka_money - life_money) * salary * 12\n",
    "bonus = int (input (\"Введите количество премий за год\\n\"))\n",
    "bonus_money = bonus * salary\n",
    "bonus_holiday_money = bonus_money / 2\n",
    "bonus_save_money_year = bonus_money - bonus_holiday_money\n",
    "ipoteka_money_year = salary * 12 * ipoteka_money\n",
    "all_save_money_year = salary_save_money_year + bonus_save_money_year\n",
    "print(\"На ипотеку было потрачено\\n\", ipoteka_money_year, \"рублей\")\n",
    "print(\"Было накоплено\\n\",all_save_money_year, \"рублей\")\n",
    "print(\"Было потрачено на отпуск\\n\",bonus_holiday_money, \"рублей\")\n"
   ]
  },
  {
   "cell_type": "code",
   "execution_count": null,
   "metadata": {},
   "outputs": [],
   "source": []
  }
 ],
 "metadata": {
  "kernelspec": {
   "display_name": "Python 3",
   "language": "python",
   "name": "python3"
  },
  "language_info": {
   "codemirror_mode": {
    "name": "ipython",
    "version": 3
   },
   "file_extension": ".py",
   "mimetype": "text/x-python",
   "name": "python",
   "nbconvert_exporter": "python",
   "pygments_lexer": "ipython3",
   "version": "3.7.3"
  }
 },
 "nbformat": 4,
 "nbformat_minor": 2
}
